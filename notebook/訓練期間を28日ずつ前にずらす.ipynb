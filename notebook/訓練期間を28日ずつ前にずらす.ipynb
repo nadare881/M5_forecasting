{
 "cells": [
  {
   "cell_type": "code",
   "execution_count": 1,
   "metadata": {
    "ExecuteTime": {
     "end_time": "2020-03-19T22:06:56.790026Z",
     "start_time": "2020-03-19T22:06:54.954937Z"
    }
   },
   "outputs": [],
   "source": [
    "from gc import collect\n",
    "\n",
    "import pandas as pd\n",
    "import numpy as np\n",
    "import seaborn as sns\n",
    "import matplotlib.pyplot as plt\n",
    "import lightgbm as lgb\n",
    "\n",
    "from sklearn.metrics import mean_squared_error\n",
    "from tqdm import tqdm_notebook as tqdm"
   ]
  },
  {
   "cell_type": "code",
   "execution_count": 2,
   "metadata": {
    "ExecuteTime": {
     "end_time": "2020-03-19T22:06:56.813031Z",
     "start_time": "2020-03-19T22:06:56.791024Z"
    }
   },
   "outputs": [],
   "source": [
    "# evaluator\n",
    "from typing import Union\n",
    "class WRMSSEEvaluator(object):\n",
    "\n",
    "    def __init__(self, train_df: pd.DataFrame, valid_df: pd.DataFrame, calendar: pd.DataFrame, prices: pd.DataFrame):\n",
    "        train_y = train_df.loc[:, train_df.columns.str.startswith('d_')]\n",
    "        train_target_columns = train_y.columns.tolist()\n",
    "        weight_columns = train_y.iloc[:, -28:].columns.tolist()\n",
    "\n",
    "        train_df['all_id'] = 0  # for lv1 aggregation\n",
    "        for gcol in [\"all_id\", \"state_id\", \"store_id\", \"cat_id\", \"dept_id\", \"item_id\"]:\n",
    "            train_df.loc[:, gcol] = train_df.loc[:, gcol].astype(\"category\")\n",
    "\n",
    "        id_columns = train_df.loc[:, ~train_df.columns.str.startswith('d_')].columns.tolist()\n",
    "        valid_target_columns = valid_df.loc[:, valid_df.columns.str.startswith('d_')].columns.tolist()\n",
    "\n",
    "        if not all([c in valid_df.columns for c in id_columns]):\n",
    "            valid_df = pd.concat([train_df[id_columns], valid_df], axis=1, sort=False)\n",
    "\n",
    "        self.train_df = train_df\n",
    "        self.valid_df = valid_df\n",
    "        self.calendar = calendar\n",
    "        self.prices = prices\n",
    "\n",
    "        self.weight_columns = weight_columns\n",
    "        self.id_columns = id_columns\n",
    "        self.valid_target_columns = valid_target_columns\n",
    "\n",
    "        weight_df = self.get_weight_df()\n",
    "\n",
    "        self.group_ids = (\n",
    "            'all_id',\n",
    "            'state_id',\n",
    "            'store_id',\n",
    "            'cat_id',\n",
    "            'dept_id',\n",
    "            ['state_id', 'cat_id'],\n",
    "            ['state_id', 'dept_id'],\n",
    "            ['store_id', 'cat_id'],\n",
    "            ['store_id', 'dept_id'],\n",
    "            'item_id',\n",
    "            ['item_id', 'state_id'],\n",
    "            ['item_id', 'store_id']\n",
    "        )\n",
    "\n",
    "        for i, group_id in enumerate(tqdm(self.group_ids)):\n",
    "            setattr(self, f'lv{i + 1}_train_df', train_df.groupby(group_id)[train_target_columns].sum())\n",
    "            setattr(self, f'lv{i + 1}_valid_df', valid_df.groupby(group_id)[valid_target_columns].sum())\n",
    "\n",
    "            lv_weight = weight_df.groupby(group_id)[weight_columns].sum().sum(axis=1)\n",
    "            setattr(self, f'lv{i + 1}_weight', lv_weight / lv_weight.sum())\n",
    "\n",
    "    def get_weight_df(self) -> pd.DataFrame:\n",
    "        day_to_week = self.calendar.set_index('d')['wm_yr_wk'].to_dict()\n",
    "        weight_df = self.train_df[['item_id', 'store_id'] + self.weight_columns].set_index(['item_id', 'store_id'])\n",
    "        weight_df = weight_df.stack().reset_index().rename(columns={'level_2': 'd', 0: 'value'})\n",
    "        weight_df['wm_yr_wk'] = weight_df['d'].map(day_to_week)\n",
    "\n",
    "        weight_df = weight_df.merge(self.prices, how='left', on=['item_id', 'store_id', 'wm_yr_wk'])\n",
    "        weight_df['value'] = weight_df['value'] * weight_df['sell_price']\n",
    "        weight_df = weight_df.set_index(['item_id', 'store_id', 'd']).unstack(level=2)['value']\n",
    "        weight_df = weight_df.loc[zip(self.train_df.item_id, self.train_df.store_id), :].reset_index(drop=True)\n",
    "        weight_df = pd.concat([self.train_df[self.id_columns], weight_df], axis=1, sort=False)\n",
    "        return weight_df\n",
    "\n",
    "    def rmsse(self, valid_preds: pd.DataFrame, lv: int) -> pd.Series:\n",
    "        train_y = getattr(self, f'lv{lv}_train_df')\n",
    "        valid_y = getattr(self, f'lv{lv}_valid_df')\n",
    "        score = ((valid_y - valid_preds) ** 2).mean(axis=1)\n",
    "        scale = ((train_y.iloc[:, 1:].values - train_y.iloc[:, :-1].values) ** 2).mean(axis=1)\n",
    "        return (score / scale).map(np.sqrt)\n",
    "\n",
    "    def score(self, valid_preds: Union[pd.DataFrame, np.ndarray]) -> float:\n",
    "        assert self.valid_df[self.valid_target_columns].shape == valid_preds.shape\n",
    "\n",
    "        if isinstance(valid_preds, np.ndarray):\n",
    "            valid_preds = pd.DataFrame(valid_preds, columns=self.valid_target_columns)\n",
    "\n",
    "        valid_preds = pd.concat([self.valid_df[self.id_columns], valid_preds], axis=1, sort=False)\n",
    "\n",
    "        all_scores = []\n",
    "        for i, group_id in enumerate(self.group_ids):\n",
    "            lv_scores = self.rmsse(valid_preds.groupby(group_id)[self.valid_target_columns].sum(), i + 1)\n",
    "            weight = getattr(self, f'lv{i + 1}_weight')\n",
    "            lv_scores = pd.concat([weight, lv_scores], axis=1, sort=False).prod(axis=1)\n",
    "            all_scores.append(lv_scores.sum())\n",
    "\n",
    "        return np.mean(all_scores)"
   ]
  },
  {
   "cell_type": "code",
   "execution_count": 3,
   "metadata": {
    "ExecuteTime": {
     "end_time": "2020-03-19T22:07:02.435056Z",
     "start_time": "2020-03-19T22:06:56.815027Z"
    }
   },
   "outputs": [],
   "source": [
    "raw_train_df = pd.read_csv('../input/m5-forecasting-accuracy/sales_train_validation.csv')\n",
    "calendar = pd.read_csv(\"../input/m5-forecasting-accuracy/calendar.csv\")\n",
    "prices = pd.read_csv(\"../input/m5-forecasting-accuracy/sell_prices.csv\")\n",
    "test_train_fold_df = raw_train_df.iloc[:, :-28]\n",
    "test_valid_fold_df = raw_train_df.iloc[:, -28:]"
   ]
  },
  {
   "cell_type": "code",
   "execution_count": 4,
   "metadata": {
    "ExecuteTime": {
     "end_time": "2020-03-19T22:07:26.798243Z",
     "start_time": "2020-03-19T22:07:02.436084Z"
    }
   },
   "outputs": [
    {
     "name": "stderr",
     "output_type": "stream",
     "text": [
      "C:\\Users\\nadare\\Anaconda3\\lib\\site-packages\\ipykernel_launcher.py:46: TqdmDeprecationWarning: This function will be removed in tqdm==5.0.0\n",
      "Please use `tqdm.notebook.tqdm` instead of `tqdm.tqdm_notebook`\n"
     ]
    },
    {
     "data": {
      "application/vnd.jupyter.widget-view+json": {
       "model_id": "024e077b3969499f83d5a883e58a4288",
       "version_major": 2,
       "version_minor": 0
      },
      "text/plain": [
       "HBox(children=(FloatProgress(value=0.0, max=12.0), HTML(value='')))"
      ]
     },
     "metadata": {},
     "output_type": "display_data"
    },
    {
     "name": "stdout",
     "output_type": "stream",
     "text": [
      "\n"
     ]
    }
   ],
   "source": [
    "from sklearn.metrics import mean_squared_error\n",
    "class WRMSSEForLightGBM(WRMSSEEvaluator):\n",
    "\n",
    "    def feval(self, preds, dtrain):\n",
    "        preds = preds.reshape(28, -1).T\n",
    "        score = self.score(preds)\n",
    "        return 'WRMSSE', score, False\n",
    "    \n",
    "    def set_ix(self, ix):\n",
    "        self.pred_ix = ix\n",
    "    \n",
    "    def feval2(self, preds, dtrain):\n",
    "        new_preds = np.zeros(28*30490)\n",
    "        new_preds[self.pred_ix] = preds\n",
    "        return self.feval(new_preds, dtrain)\n",
    "        \n",
    "test_evaluator = WRMSSEForLightGBM(test_train_fold_df, test_valid_fold_df, calendar, prices)"
   ]
  },
  {
   "cell_type": "code",
   "execution_count": 5,
   "metadata": {
    "ExecuteTime": {
     "end_time": "2020-03-20T08:39:44.160504Z",
     "start_time": "2020-03-19T22:07:26.799275Z"
    },
    "scrolled": true
   },
   "outputs": [
    {
     "name": "stderr",
     "output_type": "stream",
     "text": [
      "C:\\Users\\nadare\\Anaconda3\\lib\\site-packages\\ipykernel_launcher.py:46: TqdmDeprecationWarning: This function will be removed in tqdm==5.0.0\n",
      "Please use `tqdm.notebook.tqdm` instead of `tqdm.tqdm_notebook`\n"
     ]
    },
    {
     "data": {
      "application/vnd.jupyter.widget-view+json": {
       "model_id": "53ee972d8aad425caa009b57483cdc25",
       "version_major": 2,
       "version_minor": 0
      },
      "text/plain": [
       "HBox(children=(FloatProgress(value=0.0, max=12.0), HTML(value='')))"
      ]
     },
     "metadata": {},
     "output_type": "display_data"
    },
    {
     "name": "stdout",
     "output_type": "stream",
     "text": [
      "\n",
      "Training until validation scores don't improve for 100 rounds.\n",
      "[100]\tvalid_0's WRMSSE: 0.600262\n",
      "[200]\tvalid_0's WRMSSE: 0.59242\n",
      "[300]\tvalid_0's WRMSSE: 0.579306\n",
      "[400]\tvalid_0's WRMSSE: 0.57149\n",
      "[500]\tvalid_0's WRMSSE: 0.569519\n",
      "[600]\tvalid_0's WRMSSE: 0.569603\n",
      "Early stopping, best iteration is:\n",
      "[531]\tvalid_0's WRMSSE: 0.568558\n",
      "2.1004120160363153 0.5685771365899563\n"
     ]
    },
    {
     "name": "stderr",
     "output_type": "stream",
     "text": [
      "C:\\Users\\nadare\\Anaconda3\\lib\\site-packages\\ipykernel_launcher.py:46: TqdmDeprecationWarning: This function will be removed in tqdm==5.0.0\n",
      "Please use `tqdm.notebook.tqdm` instead of `tqdm.tqdm_notebook`\n"
     ]
    },
    {
     "data": {
      "application/vnd.jupyter.widget-view+json": {
       "model_id": "e2e60914ec8a4c77a9178077021c0732",
       "version_major": 2,
       "version_minor": 0
      },
      "text/plain": [
       "HBox(children=(FloatProgress(value=0.0, max=12.0), HTML(value='')))"
      ]
     },
     "metadata": {},
     "output_type": "display_data"
    },
    {
     "name": "stdout",
     "output_type": "stream",
     "text": [
      "\n",
      "Training until validation scores don't improve for 100 rounds.\n",
      "[100]\tvalid_0's WRMSSE: 0.690333\n",
      "[200]\tvalid_0's WRMSSE: 0.671349\n",
      "[300]\tvalid_0's WRMSSE: 0.663095\n",
      "[400]\tvalid_0's WRMSSE: 0.655645\n",
      "[500]\tvalid_0's WRMSSE: 0.652527\n",
      "[600]\tvalid_0's WRMSSE: 0.654489\n",
      "Early stopping, best iteration is:\n",
      "[554]\tvalid_0's WRMSSE: 0.651733\n",
      "2.140862488855329 0.5834188019559651\n"
     ]
    },
    {
     "name": "stderr",
     "output_type": "stream",
     "text": [
      "C:\\Users\\nadare\\Anaconda3\\lib\\site-packages\\ipykernel_launcher.py:46: TqdmDeprecationWarning: This function will be removed in tqdm==5.0.0\n",
      "Please use `tqdm.notebook.tqdm` instead of `tqdm.tqdm_notebook`\n"
     ]
    },
    {
     "data": {
      "application/vnd.jupyter.widget-view+json": {
       "model_id": "d301949692a9437580ac13d8af39ef3a",
       "version_major": 2,
       "version_minor": 0
      },
      "text/plain": [
       "HBox(children=(FloatProgress(value=0.0, max=12.0), HTML(value='')))"
      ]
     },
     "metadata": {},
     "output_type": "display_data"
    },
    {
     "name": "stdout",
     "output_type": "stream",
     "text": [
      "\n",
      "Training until validation scores don't improve for 100 rounds.\n",
      "[100]\tvalid_0's WRMSSE: 0.746837\n",
      "[200]\tvalid_0's WRMSSE: 0.725097\n",
      "[300]\tvalid_0's WRMSSE: 0.721838\n",
      "Early stopping, best iteration is:\n",
      "[261]\tvalid_0's WRMSSE: 0.718765\n",
      "2.1737945080787777 0.6402242605670682\n"
     ]
    },
    {
     "name": "stderr",
     "output_type": "stream",
     "text": [
      "C:\\Users\\nadare\\Anaconda3\\lib\\site-packages\\ipykernel_launcher.py:46: TqdmDeprecationWarning: This function will be removed in tqdm==5.0.0\n",
      "Please use `tqdm.notebook.tqdm` instead of `tqdm.tqdm_notebook`\n"
     ]
    },
    {
     "data": {
      "application/vnd.jupyter.widget-view+json": {
       "model_id": "e0ae69f0bd774e078eb040f65ad15c35",
       "version_major": 2,
       "version_minor": 0
      },
      "text/plain": [
       "HBox(children=(FloatProgress(value=0.0, max=12.0), HTML(value='')))"
      ]
     },
     "metadata": {},
     "output_type": "display_data"
    },
    {
     "name": "stdout",
     "output_type": "stream",
     "text": [
      "\n",
      "Training until validation scores don't improve for 100 rounds.\n",
      "[100]\tvalid_0's WRMSSE: 0.681799\n",
      "[200]\tvalid_0's WRMSSE: 0.654367\n",
      "[300]\tvalid_0's WRMSSE: 0.638636\n",
      "[400]\tvalid_0's WRMSSE: 0.624323\n",
      "[500]\tvalid_0's WRMSSE: 0.6131\n",
      "[600]\tvalid_0's WRMSSE: 0.605396\n",
      "[700]\tvalid_0's WRMSSE: 0.602055\n",
      "[800]\tvalid_0's WRMSSE: 0.596722\n",
      "[900]\tvalid_0's WRMSSE: 0.596927\n",
      "[1000]\tvalid_0's WRMSSE: 0.594502\n",
      "[1100]\tvalid_0's WRMSSE: 0.588824\n",
      "[1200]\tvalid_0's WRMSSE: 0.586915\n",
      "[1300]\tvalid_0's WRMSSE: 0.586522\n",
      "Early stopping, best iteration is:\n",
      "[1218]\tvalid_0's WRMSSE: 0.586414\n",
      "2.1990040489042233 0.6327965698026911\n"
     ]
    },
    {
     "name": "stderr",
     "output_type": "stream",
     "text": [
      "C:\\Users\\nadare\\Anaconda3\\lib\\site-packages\\ipykernel_launcher.py:46: TqdmDeprecationWarning: This function will be removed in tqdm==5.0.0\n",
      "Please use `tqdm.notebook.tqdm` instead of `tqdm.tqdm_notebook`\n"
     ]
    },
    {
     "data": {
      "application/vnd.jupyter.widget-view+json": {
       "model_id": "03007b7b73d84c04bcf18d6b1fe6e027",
       "version_major": 2,
       "version_minor": 0
      },
      "text/plain": [
       "HBox(children=(FloatProgress(value=0.0, max=12.0), HTML(value='')))"
      ]
     },
     "metadata": {},
     "output_type": "display_data"
    },
    {
     "name": "stdout",
     "output_type": "stream",
     "text": [
      "\n",
      "Training until validation scores don't improve for 100 rounds.\n",
      "[100]\tvalid_0's WRMSSE: 0.729666\n",
      "[200]\tvalid_0's WRMSSE: 0.713058\n",
      "[300]\tvalid_0's WRMSSE: 0.692983\n",
      "[400]\tvalid_0's WRMSSE: 0.686709\n",
      "[500]\tvalid_0's WRMSSE: 0.675937\n",
      "[600]\tvalid_0's WRMSSE: 0.672264\n",
      "[700]\tvalid_0's WRMSSE: 0.653764\n",
      "[800]\tvalid_0's WRMSSE: 0.651472\n",
      "[900]\tvalid_0's WRMSSE: 0.645438\n",
      "[1000]\tvalid_0's WRMSSE: 0.644274\n",
      "[1100]\tvalid_0's WRMSSE: 0.641932\n",
      "[1200]\tvalid_0's WRMSSE: 0.642206\n",
      "[1300]\tvalid_0's WRMSSE: 0.639367\n",
      "[1400]\tvalid_0's WRMSSE: 0.637214\n",
      "[1500]\tvalid_0's WRMSSE: 0.634068\n",
      "[1600]\tvalid_0's WRMSSE: 0.63096\n",
      "[1700]\tvalid_0's WRMSSE: 0.630521\n",
      "Early stopping, best iteration is:\n",
      "[1648]\tvalid_0's WRMSSE: 0.630372\n",
      "2.1839267703527123 0.6193392274779753\n"
     ]
    },
    {
     "name": "stderr",
     "output_type": "stream",
     "text": [
      "C:\\Users\\nadare\\Anaconda3\\lib\\site-packages\\ipykernel_launcher.py:46: TqdmDeprecationWarning: This function will be removed in tqdm==5.0.0\n",
      "Please use `tqdm.notebook.tqdm` instead of `tqdm.tqdm_notebook`\n"
     ]
    },
    {
     "data": {
      "application/vnd.jupyter.widget-view+json": {
       "model_id": "4f53ebb15cd24d91a23545d74c95bab4",
       "version_major": 2,
       "version_minor": 0
      },
      "text/plain": [
       "HBox(children=(FloatProgress(value=0.0, max=12.0), HTML(value='')))"
      ]
     },
     "metadata": {},
     "output_type": "display_data"
    },
    {
     "name": "stdout",
     "output_type": "stream",
     "text": [
      "\n",
      "Training until validation scores don't improve for 100 rounds.\n",
      "[100]\tvalid_0's WRMSSE: 0.755738\n",
      "[200]\tvalid_0's WRMSSE: 0.720352\n",
      "[300]\tvalid_0's WRMSSE: 0.713823\n",
      "[400]\tvalid_0's WRMSSE: 0.703376\n",
      "[500]\tvalid_0's WRMSSE: 0.694809\n",
      "[600]\tvalid_0's WRMSSE: 0.687036\n",
      "[700]\tvalid_0's WRMSSE: 0.688723\n",
      "Early stopping, best iteration is:\n",
      "[605]\tvalid_0's WRMSSE: 0.686354\n",
      "2.176591934302655 0.6642430376490676\n"
     ]
    },
    {
     "name": "stderr",
     "output_type": "stream",
     "text": [
      "C:\\Users\\nadare\\Anaconda3\\lib\\site-packages\\ipykernel_launcher.py:46: TqdmDeprecationWarning: This function will be removed in tqdm==5.0.0\n",
      "Please use `tqdm.notebook.tqdm` instead of `tqdm.tqdm_notebook`\n"
     ]
    },
    {
     "data": {
      "application/vnd.jupyter.widget-view+json": {
       "model_id": "528941c029d542638ba31c769143ccd2",
       "version_major": 2,
       "version_minor": 0
      },
      "text/plain": [
       "HBox(children=(FloatProgress(value=0.0, max=12.0), HTML(value='')))"
      ]
     },
     "metadata": {},
     "output_type": "display_data"
    },
    {
     "name": "stdout",
     "output_type": "stream",
     "text": [
      "\n",
      "Training until validation scores don't improve for 100 rounds.\n",
      "[100]\tvalid_0's WRMSSE: 0.640564\n",
      "[200]\tvalid_0's WRMSSE: 0.621832\n",
      "[300]\tvalid_0's WRMSSE: 0.611464\n",
      "[400]\tvalid_0's WRMSSE: 0.607912\n",
      "[500]\tvalid_0's WRMSSE: 0.601467\n",
      "[600]\tvalid_0's WRMSSE: 0.592528\n",
      "[700]\tvalid_0's WRMSSE: 0.588492\n",
      "[800]\tvalid_0's WRMSSE: 0.58728\n",
      "[900]\tvalid_0's WRMSSE: 0.585125\n",
      "[1000]\tvalid_0's WRMSSE: 0.585151\n",
      "[1100]\tvalid_0's WRMSSE: 0.583163\n",
      "[1200]\tvalid_0's WRMSSE: 0.581922\n",
      "[1300]\tvalid_0's WRMSSE: 0.5807\n",
      "[1400]\tvalid_0's WRMSSE: 0.57866\n",
      "[1500]\tvalid_0's WRMSSE: 0.57683\n",
      "[1600]\tvalid_0's WRMSSE: 0.575425\n",
      "[1700]\tvalid_0's WRMSSE: 0.575136\n",
      "[1800]\tvalid_0's WRMSSE: 0.57397\n",
      "[1900]\tvalid_0's WRMSSE: 0.573287\n",
      "[2000]\tvalid_0's WRMSSE: 0.571057\n",
      "[2100]\tvalid_0's WRMSSE: 0.569391\n",
      "Early stopping, best iteration is:\n",
      "[2089]\tvalid_0's WRMSSE: 0.568978\n",
      "2.19403731983268 0.6245057255026049\n"
     ]
    },
    {
     "name": "stderr",
     "output_type": "stream",
     "text": [
      "C:\\Users\\nadare\\Anaconda3\\lib\\site-packages\\ipykernel_launcher.py:46: TqdmDeprecationWarning: This function will be removed in tqdm==5.0.0\n",
      "Please use `tqdm.notebook.tqdm` instead of `tqdm.tqdm_notebook`\n"
     ]
    },
    {
     "data": {
      "application/vnd.jupyter.widget-view+json": {
       "model_id": "f36b2e4251184ea4965145708cc0e635",
       "version_major": 2,
       "version_minor": 0
      },
      "text/plain": [
       "HBox(children=(FloatProgress(value=0.0, max=12.0), HTML(value='')))"
      ]
     },
     "metadata": {},
     "output_type": "display_data"
    },
    {
     "name": "stdout",
     "output_type": "stream",
     "text": [
      "\n",
      "Training until validation scores don't improve for 100 rounds.\n",
      "[100]\tvalid_0's WRMSSE: 0.696046\n",
      "[200]\tvalid_0's WRMSSE: 0.668699\n",
      "[300]\tvalid_0's WRMSSE: 0.658977\n",
      "[400]\tvalid_0's WRMSSE: 0.647341\n",
      "[500]\tvalid_0's WRMSSE: 0.638875\n",
      "[600]\tvalid_0's WRMSSE: 0.633642\n",
      "[700]\tvalid_0's WRMSSE: 0.626379\n",
      "[800]\tvalid_0's WRMSSE: 0.624936\n",
      "Early stopping, best iteration is:\n",
      "[736]\tvalid_0's WRMSSE: 0.623322\n",
      "2.198787793743332 0.6433205904967452\n"
     ]
    },
    {
     "name": "stderr",
     "output_type": "stream",
     "text": [
      "C:\\Users\\nadare\\Anaconda3\\lib\\site-packages\\ipykernel_launcher.py:46: TqdmDeprecationWarning: This function will be removed in tqdm==5.0.0\n",
      "Please use `tqdm.notebook.tqdm` instead of `tqdm.tqdm_notebook`\n"
     ]
    },
    {
     "data": {
      "application/vnd.jupyter.widget-view+json": {
       "model_id": "c1d8da24035648ba9be18852807913ab",
       "version_major": 2,
       "version_minor": 0
      },
      "text/plain": [
       "HBox(children=(FloatProgress(value=0.0, max=12.0), HTML(value='')))"
      ]
     },
     "metadata": {},
     "output_type": "display_data"
    },
    {
     "name": "stdout",
     "output_type": "stream",
     "text": [
      "\n",
      "Training until validation scores don't improve for 100 rounds.\n",
      "[100]\tvalid_0's WRMSSE: 0.679848\n",
      "[200]\tvalid_0's WRMSSE: 0.64527\n",
      "[300]\tvalid_0's WRMSSE: 0.636252\n",
      "[400]\tvalid_0's WRMSSE: 0.625506\n",
      "[500]\tvalid_0's WRMSSE: 0.620634\n",
      "[600]\tvalid_0's WRMSSE: 0.615306\n",
      "[700]\tvalid_0's WRMSSE: 0.610645\n",
      "[800]\tvalid_0's WRMSSE: 0.60735\n",
      "[900]\tvalid_0's WRMSSE: 0.60241\n",
      "[1000]\tvalid_0's WRMSSE: 0.601893\n",
      "Early stopping, best iteration is:\n",
      "[984]\tvalid_0's WRMSSE: 0.601651\n",
      "2.2254435800889443 0.6637410358575805\n"
     ]
    },
    {
     "name": "stderr",
     "output_type": "stream",
     "text": [
      "C:\\Users\\nadare\\Anaconda3\\lib\\site-packages\\ipykernel_launcher.py:46: TqdmDeprecationWarning: This function will be removed in tqdm==5.0.0\n",
      "Please use `tqdm.notebook.tqdm` instead of `tqdm.tqdm_notebook`\n"
     ]
    },
    {
     "data": {
      "application/vnd.jupyter.widget-view+json": {
       "model_id": "1915e34c5bf743178fefd90453099880",
       "version_major": 2,
       "version_minor": 0
      },
      "text/plain": [
       "HBox(children=(FloatProgress(value=0.0, max=12.0), HTML(value='')))"
      ]
     },
     "metadata": {},
     "output_type": "display_data"
    },
    {
     "name": "stdout",
     "output_type": "stream",
     "text": [
      "\n",
      "Training until validation scores don't improve for 100 rounds.\n",
      "[100]\tvalid_0's WRMSSE: 0.636988\n",
      "[200]\tvalid_0's WRMSSE: 0.595668\n",
      "[300]\tvalid_0's WRMSSE: 0.571963\n",
      "[400]\tvalid_0's WRMSSE: 0.567448\n",
      "[500]\tvalid_0's WRMSSE: 0.559415\n",
      "[600]\tvalid_0's WRMSSE: 0.550214\n",
      "[700]\tvalid_0's WRMSSE: 0.543281\n",
      "[800]\tvalid_0's WRMSSE: 0.541909\n",
      "[900]\tvalid_0's WRMSSE: 0.538987\n",
      "[1000]\tvalid_0's WRMSSE: 0.53594\n",
      "[1100]\tvalid_0's WRMSSE: 0.53569\n",
      "[1200]\tvalid_0's WRMSSE: 0.533068\n",
      "[1300]\tvalid_0's WRMSSE: 0.532808\n",
      "[1400]\tvalid_0's WRMSSE: 0.531518\n",
      "[1500]\tvalid_0's WRMSSE: 0.529649\n",
      "[1600]\tvalid_0's WRMSSE: 0.527951\n",
      "[1700]\tvalid_0's WRMSSE: 0.527559\n",
      "[1800]\tvalid_0's WRMSSE: 0.526346\n",
      "[1900]\tvalid_0's WRMSSE: 0.527693\n",
      "Early stopping, best iteration is:\n",
      "[1803]\tvalid_0's WRMSSE: 0.525819\n",
      "2.235497247285811 0.6183187334324919\n"
     ]
    },
    {
     "name": "stderr",
     "output_type": "stream",
     "text": [
      "C:\\Users\\nadare\\Anaconda3\\lib\\site-packages\\ipykernel_launcher.py:46: TqdmDeprecationWarning: This function will be removed in tqdm==5.0.0\n",
      "Please use `tqdm.notebook.tqdm` instead of `tqdm.tqdm_notebook`\n"
     ]
    },
    {
     "data": {
      "application/vnd.jupyter.widget-view+json": {
       "model_id": "2e276409c6d040dca098ef34fd729425",
       "version_major": 2,
       "version_minor": 0
      },
      "text/plain": [
       "HBox(children=(FloatProgress(value=0.0, max=12.0), HTML(value='')))"
      ]
     },
     "metadata": {},
     "output_type": "display_data"
    },
    {
     "name": "stdout",
     "output_type": "stream",
     "text": [
      "\n",
      "Training until validation scores don't improve for 100 rounds.\n",
      "[100]\tvalid_0's WRMSSE: 0.745751\n",
      "[200]\tvalid_0's WRMSSE: 0.716211\n",
      "[300]\tvalid_0's WRMSSE: 0.708319\n",
      "[400]\tvalid_0's WRMSSE: 0.690684\n",
      "[500]\tvalid_0's WRMSSE: 0.693286\n",
      "Early stopping, best iteration is:\n",
      "[472]\tvalid_0's WRMSSE: 0.687917\n",
      "2.2049815559611505 0.671828266136378\n"
     ]
    },
    {
     "name": "stderr",
     "output_type": "stream",
     "text": [
      "C:\\Users\\nadare\\Anaconda3\\lib\\site-packages\\ipykernel_launcher.py:46: TqdmDeprecationWarning: This function will be removed in tqdm==5.0.0\n",
      "Please use `tqdm.notebook.tqdm` instead of `tqdm.tqdm_notebook`\n"
     ]
    },
    {
     "data": {
      "application/vnd.jupyter.widget-view+json": {
       "model_id": "f8261f99e2c546e49e8ef91bc0ef7aaa",
       "version_major": 2,
       "version_minor": 0
      },
      "text/plain": [
       "HBox(children=(FloatProgress(value=0.0, max=12.0), HTML(value='')))"
      ]
     },
     "metadata": {},
     "output_type": "display_data"
    },
    {
     "name": "stdout",
     "output_type": "stream",
     "text": [
      "\n",
      "Training until validation scores don't improve for 100 rounds.\n",
      "[100]\tvalid_0's WRMSSE: 0.762871\n",
      "[200]\tvalid_0's WRMSSE: 0.727196\n",
      "[300]\tvalid_0's WRMSSE: 0.713262\n",
      "[400]\tvalid_0's WRMSSE: 0.708538\n",
      "[500]\tvalid_0's WRMSSE: 0.707525\n",
      "[600]\tvalid_0's WRMSSE: 0.703354\n",
      "[700]\tvalid_0's WRMSSE: 0.70295\n",
      "[800]\tvalid_0's WRMSSE: 0.703712\n",
      "Early stopping, best iteration is:\n",
      "[702]\tvalid_0's WRMSSE: 0.702821\n",
      "2.1998380034088214 0.6842225956723134\n"
     ]
    },
    {
     "name": "stderr",
     "output_type": "stream",
     "text": [
      "C:\\Users\\nadare\\Anaconda3\\lib\\site-packages\\ipykernel_launcher.py:46: TqdmDeprecationWarning: This function will be removed in tqdm==5.0.0\n",
      "Please use `tqdm.notebook.tqdm` instead of `tqdm.tqdm_notebook`\n"
     ]
    },
    {
     "data": {
      "application/vnd.jupyter.widget-view+json": {
       "model_id": "89548e9c38ea4cc9a54c1b7d537ef0ef",
       "version_major": 2,
       "version_minor": 0
      },
      "text/plain": [
       "HBox(children=(FloatProgress(value=0.0, max=12.0), HTML(value='')))"
      ]
     },
     "metadata": {},
     "output_type": "display_data"
    },
    {
     "name": "stdout",
     "output_type": "stream",
     "text": [
      "\n",
      "Training until validation scores don't improve for 100 rounds.\n",
      "[100]\tvalid_0's WRMSSE: 0.626883\n",
      "[200]\tvalid_0's WRMSSE: 0.611163\n",
      "[300]\tvalid_0's WRMSSE: 0.601023\n",
      "[400]\tvalid_0's WRMSSE: 0.58688\n",
      "[500]\tvalid_0's WRMSSE: 0.579525\n",
      "[600]\tvalid_0's WRMSSE: 0.574724\n",
      "Early stopping, best iteration is:\n",
      "[567]\tvalid_0's WRMSSE: 0.57427\n",
      "2.2102840806869843 0.6913334747981134\n"
     ]
    },
    {
     "name": "stderr",
     "output_type": "stream",
     "text": [
      "C:\\Users\\nadare\\Anaconda3\\lib\\site-packages\\ipykernel_launcher.py:46: TqdmDeprecationWarning: This function will be removed in tqdm==5.0.0\n",
      "Please use `tqdm.notebook.tqdm` instead of `tqdm.tqdm_notebook`\n"
     ]
    },
    {
     "data": {
      "application/vnd.jupyter.widget-view+json": {
       "model_id": "36d3e8016cf648909c3244d9ddc8a370",
       "version_major": 2,
       "version_minor": 0
      },
      "text/plain": [
       "HBox(children=(FloatProgress(value=0.0, max=12.0), HTML(value='')))"
      ]
     },
     "metadata": {},
     "output_type": "display_data"
    },
    {
     "name": "stdout",
     "output_type": "stream",
     "text": [
      "\n",
      "Training until validation scores don't improve for 100 rounds.\n",
      "[100]\tvalid_0's WRMSSE: 0.644626\n",
      "[200]\tvalid_0's WRMSSE: 0.612408\n",
      "[300]\tvalid_0's WRMSSE: 0.60591\n",
      "[400]\tvalid_0's WRMSSE: 0.599145\n",
      "[500]\tvalid_0's WRMSSE: 0.59536\n",
      "[600]\tvalid_0's WRMSSE: 0.594174\n",
      "[700]\tvalid_0's WRMSSE: 0.594339\n",
      "[800]\tvalid_0's WRMSSE: 0.588878\n",
      "[900]\tvalid_0's WRMSSE: 0.587951\n",
      "[1000]\tvalid_0's WRMSSE: 0.585105\n",
      "[1100]\tvalid_0's WRMSSE: 0.581759\n",
      "[1200]\tvalid_0's WRMSSE: 0.581488\n",
      "[1300]\tvalid_0's WRMSSE: 0.581549\n",
      "[1400]\tvalid_0's WRMSSE: 0.579544\n",
      "[1500]\tvalid_0's WRMSSE: 0.579024\n",
      "Early stopping, best iteration is:\n",
      "[1410]\tvalid_0's WRMSSE: 0.578607\n",
      "2.300565939704412 0.7227519600152511\n"
     ]
    }
   ],
   "source": [
    "def load_datasets(feats):\n",
    "    dfs = [pd.read_pickle(f'../processed/{f}_data.ftr') for f in feats]\n",
    "    return pd.concat(dfs, axis=1)\n",
    "\n",
    "test_rmse = []\n",
    "test_wrmsse = []\n",
    "\n",
    "param = {'num_leaves': 512,\n",
    "         'min_data_in_leaf': 50, \n",
    "         'objective':'rmse',\n",
    "         \"metric\": \"None\",\n",
    "         \"first_metric_only\": True,\n",
    "         'max_depth': -1,\n",
    "         'learning_rate': .1,\n",
    "         \"boosting\": \"gbdt\",\n",
    "         \"feature_fraction\": 0.75,\n",
    "         \"bagging_freq\": 10,\n",
    "         \"bagging_fraction\": 0.75 ,\n",
    "         \"bagging_seed\": 2434,\n",
    "         \"nthread\":6,\n",
    "         \"device\": \"cpu\",\n",
    "         \"verbosity\": -1}\n",
    "\n",
    "feature_importance_df = pd.DataFrame()\n",
    "for epoch in range(14):\n",
    "    data_df = pd.read_pickle(\"../processed/base_data.pickle\")\n",
    "    feats = [\"Base\", \"Calendar\", \"Price\", \"Rolling_id_LAG_28\", \"Rolling_cor\"]\n",
    "    data_df = pd.concat([data_df, load_datasets(feats)], axis=1)\n",
    "    \n",
    "    test_data_df = data_df.query(\"{} <= d and d < {}\".format(1914-28*(1), 1914))\n",
    "    val_data_df = data_df.query(\"{} <= d and d < {}\".format(1914-28*(epoch+1), 1914-28*(epoch)))\n",
    "    \n",
    "    dropcol = [\"target\", \"d\", \"id\", \"wm_yr_wk\", \"next_change\", \"rchange_rate\"]\n",
    "    dev_data = lgb.Dataset(data_df.query(\"d < {}\".format(1914-28*(epoch+1))).drop(dropcol, axis=1), label=data_df.query(\"d < {}\".format(1914-28*(epoch+1)))[\"target\"])\n",
    "    val_data = lgb.Dataset(val_data_df.drop(dropcol, axis=1), label=val_data_df[\"target\"])\n",
    "    \n",
    "    del data_df\n",
    "    collect()\n",
    "\n",
    "    ids = list(range(30490)) * 28\n",
    "    ds = []\n",
    "    for d in range(1914-28*(epoch+1), 1914-28*(epoch)):\n",
    "        ds += [d]*30490\n",
    "    origin_df = pd.DataFrame({\"id\": ids, \"d\": ds})\n",
    "    origin_df = origin_df.merge(val_data_df[[\"id\", \"d\", \"target\"]],\n",
    "                                how=\"left\",\n",
    "                                on=[\"id\", \"d\"])\n",
    "    ix = np.where(~origin_df[\"target\"].isna())[0]\n",
    "\n",
    "    train_fold_df = raw_train_df.iloc[:, :-28*(epoch+1)]\n",
    "    if epoch != 0:\n",
    "        valid_fold_df = raw_train_df.iloc[:, -28*(epoch+1):-28*epoch]\n",
    "    else:\n",
    "        valid_fold_df = raw_train_df.iloc[:, -28*(epoch+1):]\n",
    "\n",
    "    evaluator = WRMSSEForLightGBM(train_fold_df, valid_fold_df, calendar, prices)\n",
    "    evaluator.set_ix(ix)\n",
    "    \n",
    "    num_round = 10000\n",
    "    clf = lgb.train(param, dev_data, num_round, valid_sets = val_data, verbose_eval=100, early_stopping_rounds = 100, feval=evaluator.feval2)\n",
    "    clf.save_model(\"../models/epoch_{}\".format(epoch))\n",
    "    \n",
    "    fold_importance_df = pd.DataFrame()\n",
    "    fold_importance_df[\"feature\"] = test_data_df.drop(dropcol, axis=1).columns\n",
    "    fold_importance_df[\"importance\"] = clf.feature_importance()\n",
    "    fold_importance_df[\"fold\"] =  epoch\n",
    "    feature_importance_df = pd.concat([feature_importance_df, fold_importance_df])\n",
    "    \n",
    "    test_pred = clf.predict(test_data_df.drop(dropcol, axis=1),num_iteration=clf.best_iteration)\n",
    "    \n",
    "    test_rmse.append(np.sqrt(mean_squared_error(test_pred, test_data_df[\"target\"])))\n",
    "    test_wrmsse.append(test_evaluator.score(test_pred.reshape(28, -1).T))\n",
    "    print(test_rmse[-1], test_wrmsse[-1])"
   ]
  },
  {
   "cell_type": "code",
   "execution_count": 6,
   "metadata": {
    "ExecuteTime": {
     "end_time": "2020-03-20T08:39:44.342539Z",
     "start_time": "2020-03-20T08:39:44.162530Z"
    }
   },
   "outputs": [
    {
     "data": {
      "text/plain": [
       "<matplotlib.collections.PathCollection at 0x1f470fbae48>"
      ]
     },
     "execution_count": 6,
     "metadata": {},
     "output_type": "execute_result"
    },
    {
     "data": {
      "image/png": "[encoded data removed]",
      "text/plain": [
       "<Figure size 432x288 with 1 Axes>"
      ]
     },
     "metadata": {
      "needs_background": "light"
     },
     "output_type": "display_data"
    }
   ],
   "source": [
    "plt.scatter(range(14), test_wrmsse)\n",
    "plt.ylanel(\"\")\n",
    "plt.savefig(\"lagvswrmmse.png\")"
   ]
  },
  {
   "cell_type": "code",
   "execution_count": 7,
   "metadata": {
    "ExecuteTime": {
     "end_time": "2020-03-20T08:41:22.662364Z",
     "start_time": "2020-03-20T08:41:22.649362Z"
    }
   },
   "outputs": [
    {
     "data": {
      "text/plain": [
       "feature\n",
       "id_lag_28_rmean_7                   15108.857143\n",
       "id_lag_28_rmean_1                   11938.000000\n",
       "id_autocor_r7_d28_w91               11910.642857\n",
       "id_item_r28_w91                     11574.714286\n",
       "item_id_autocor_r7_d28_w91          11414.428571\n",
       "id_lag_1y_rmean_7                   11346.214286\n",
       "id_autocor_r1_d7_w91                11305.142857\n",
       "item_id_dept_r28_w91                11008.214286\n",
       "id_store_r28_w91                    10914.357143\n",
       "id_lag_28_rskew_28                  10823.142857\n",
       "id_lag_28_rkurt_28                  10517.857143\n",
       "id_dept_r28_w91                     10472.357143\n",
       "id_autocor_r28_d364_w91             10443.000000\n",
       "id_store_dept_r28_w91               10313.071429\n",
       "item_id_autocor_r1_d7_w91           10309.785714\n",
       "last_changed                        10074.500000\n",
       "id_lag_28_rmean_28                  10052.571429\n",
       "item_id_autocor_r28_d364_w91         9857.357143\n",
       "item_id_lag_28_rstd_28               9835.642857\n",
       "item_id_lag_28_rkurt_28              9661.357143\n",
       "item_id                              9444.714286\n",
       "id_lag_28_rmean_28_per_1y            9437.285714\n",
       "id_lag_28_rmean_91                   9181.428571\n",
       "snap_ttest_pvalue                    9096.428571\n",
       "next_Sporting                        8818.142857\n",
       "id_lag_1y_rmean_28                   8675.785714\n",
       "item_id_lag_28_rskew_28              8672.428571\n",
       "dayofyear                            8667.357143\n",
       "last_Sporting                        8582.571429\n",
       "last_Religious                       8314.071429\n",
       "last_National                        8270.071429\n",
       "last_Cultural                        7944.285714\n",
       "item_id_lag_28_rmean_91              7883.428571\n",
       "store_id_lag_28_rmean_28             7869.214286\n",
       "next_Cultural                        7825.785714\n",
       "day                                  7794.214286\n",
       "store_id_lag_28_rmean_91             7586.071429\n",
       "store_id_dept_id_lag_28_rmean_28     7489.000000\n",
       "item_id_lag_28_rmean_7               7287.142857\n",
       "change_rate                          7281.357143\n",
       "item_id_lag_28_rmean_28              7277.571429\n",
       "id_lag_28_rstd_28                    7200.285714\n",
       "store_id_dept_id_lag_28_rmean_91     6848.785714\n",
       "wday                                 6733.571429\n",
       "id_lag_1y_rmean_91                   6682.000000\n",
       "store_id                             6385.142857\n",
       "since_appear                         6211.857143\n",
       "all_id_lag_28_rmean_28               6136.785714\n",
       "all_id_lag_28_rmean_91               6119.785714\n",
       "dept_id_lag_28_rmean_28              5738.357143\n",
       "dept_id_lag_28_rmean_91              5675.500000\n",
       "sell_price                           5248.142857\n",
       "first_appear                         4911.642857\n",
       "cent                                 4385.285714\n",
       "max_price                            4064.428571\n",
       "min_price                            4016.857143\n",
       "item_id_lag_28_rmean_1               3687.714286\n",
       "price_nunique                        3359.928571\n",
       "sell_price_per_max_price             2855.214286\n",
       "sell_price_per_min_price             2489.000000\n",
       "snap                                 1451.642857\n",
       "month                                1058.785714\n",
       "sell_count                            818.285714\n",
       "state_id                              675.285714\n",
       "dept_id                               391.571429\n",
       "year                                  207.357143\n",
       "cat_id                                 37.214286\n",
       "Name: importance, dtype: float64"
      ]
     },
     "execution_count": 7,
     "metadata": {},
     "output_type": "execute_result"
    }
   ],
   "source": [
    "pd.options.display.max_rows = 999\n",
    "feature_importance_df.groupby(\"feature\")[\"importance\"].mean().sort_values(ascending=False)"
   ]
  },
  {
   "cell_type": "code",
   "execution_count": null,
   "metadata": {},
   "outputs": [],
   "source": []
  }
 ],
 "metadata": {
  "kernelspec": {
   "display_name": "Python 3",
   "language": "python",
   "name": "python3"
  },
  "language_info": {
   "codemirror_mode": {
    "name": "ipython",
    "version": 3
   },
   "file_extension": ".py",
   "mimetype": "text/x-python",
   "name": "python",
   "nbconvert_exporter": "python",
   "pygments_lexer": "ipython3",
   "version": "3.7.6"
  },
  "latex_envs": {
   "LaTeX_envs_menu_present": true,
   "autoclose": false,
   "autocomplete": true,
   "bibliofile": "biblio.bib",
   "cite_by": "apalike",
   "current_citInitial": 1,
   "eqLabelWithNumbers": true,
   "eqNumInitial": 1,
   "hotkeys": {
    "equation": "Ctrl-E",
    "itemize": "Ctrl-I"
   },
   "labels_anchors": false,
   "latex_user_defs": false,
   "report_style_numbering": false,
   "user_envs_cfg": false
  },
  "toc": {
   "base_numbering": 1,
   "nav_menu": {},
   "number_sections": true,
   "sideBar": true,
   "skip_h1_title": false,
   "title_cell": "Table of Contents",
   "title_sidebar": "Contents",
   "toc_cell": false,
   "toc_position": {},
   "toc_section_display": true,
   "toc_window_display": false
  }
 },
 "nbformat": 4,
 "nbformat_minor": 2
}
